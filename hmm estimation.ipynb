{
 "cells": [
  {
   "cell_type": "code",
   "execution_count": 1,
   "id": "5461e514",
   "metadata": {},
   "outputs": [],
   "source": [
    "%matplotlib inline\n",
    "import matplotlib.pyplot as plt\n",
    "plt.rcParams[\"figure.figsize\"] = (11, 5)  #set default figure size\n",
    "import quantecon as qe\n",
    "import numpy as np\n",
    "from mpl_toolkits.mplot3d import Axes3D\n",
    "from sklearn.preprocessing import normalize"
   ]
  },
  {
   "cell_type": "code",
   "execution_count": 185,
   "id": "aead31fe",
   "metadata": {},
   "outputs": [],
   "source": [
    "def hmc_sample_path(A, B, ψ_0=None, sample_size=1_000):\n",
    "\n",
    "    # set up\n",
    "    A = np.asarray(A)\n",
    "    B = np.asarray(B)\n",
    "    X = np.empty(sample_size, dtype=int)\n",
    "    Y = np.empty(sample_size, dtype=int)\n",
    "    # Convert each row of P into a cdf\n",
    "    m = len(A)\n",
    "    n = len(B)\n",
    "    A_dist = [np.cumsum(A[i, :]) for i in range(m)]\n",
    "    B_dist = [np.cumsum(B[i, :]) for i in range(n)]\n",
    "\n",
    "    # draw initial state, defaulting to 0\n",
    "    if ψ_0 is not None:\n",
    "        ψ_0 = np.asarray(ψ_0)\n",
    "        X_0 = qe.random.draw(np.cumsum(ψ_0))\n",
    "    else:\n",
    "        X_0 = 0\n",
    "\n",
    "    # simulate\n",
    "    X[0] = X_0\n",
    "    Y[0] = qe.random.draw(B_dist[X_0])\n",
    "    for t in range(sample_size - 1):\n",
    "        X[t+1] = qe.random.draw(A_dist[X[t]])\n",
    "        Y[t+1] = qe.random.draw(B_dist[X[t+1]])\n",
    "\n",
    "    return X, Y"
   ]
  },
  {
   "cell_type": "code",
   "execution_count": 235,
   "id": "e06942b2",
   "metadata": {},
   "outputs": [],
   "source": [
    "A = [[0.5, 0.5],\n",
    "    [0.5, 0.5]]\n",
    "B = [[0.4, 0.6],\n",
    "     [0.5, 0.5]]\n",
    "ψ_0 = np.array([0.5, 0.5])"
   ]
  },
  {
   "cell_type": "code",
   "execution_count": 269,
   "id": "b2f33ea8",
   "metadata": {},
   "outputs": [],
   "source": [
    "obs = hmc_sample_path(A, B, sample_size=10)[1]"
   ]
  },
  {
   "cell_type": "code",
   "execution_count": 270,
   "id": "c918ed42",
   "metadata": {},
   "outputs": [
    {
     "data": {
      "text/plain": [
       "array([1, 0, 1, 1, 0, 0, 1, 1, 1, 0])"
      ]
     },
     "execution_count": 270,
     "metadata": {},
     "output_type": "execute_result"
    }
   ],
   "source": [
    "obs"
   ]
  },
  {
   "cell_type": "markdown",
   "id": "1f94ba20",
   "metadata": {},
   "source": [
    "## Forward algorithm"
   ]
  },
  {
   "cell_type": "code",
   "execution_count": 271,
   "id": "df5d28b7",
   "metadata": {},
   "outputs": [],
   "source": [
    "def forward(obs, A, B, ψ_0):\n",
    "    A = np.asarray(A)\n",
    "    B = np.asarray(B)\n",
    "    ψ_0 = np.asarray(ψ_0)\n",
    "    num_states = len(A)\n",
    "    α = np.empty((num_states, len(obs)))\n",
    "    α[:,0] = ψ_0 * B[:, obs[0]]\n",
    "    for t in range(len(obs)-1):\n",
    "        for s in range(num_states):\n",
    "            α[s, t+1] = α[:, t].dot(A[:, s]) * B[s, obs[t+1]]\n",
    "    return α"
   ]
  },
  {
   "cell_type": "code",
   "execution_count": 272,
   "id": "f7abfc6c",
   "metadata": {},
   "outputs": [],
   "source": [
    "a = forward(obs, A, B, ψ_0)"
   ]
  },
  {
   "cell_type": "code",
   "execution_count": 273,
   "id": "8d227b5d",
   "metadata": {},
   "outputs": [
    {
     "data": {
      "text/plain": [
       "array([[0.40331794, 0.11265126, 0.08410719, 0.06094838, 0.01686923,\n",
       "        0.00484123, 0.00374088, 0.00276586, 0.00199246, 0.00054941],\n",
       "       [0.23923633, 0.10959504, 0.05734704, 0.03089605, 0.01441591,\n",
       "        0.00638394, 0.00327972, 0.00172921, 0.00093973, 0.00044258]])"
      ]
     },
     "execution_count": 273,
     "metadata": {},
     "output_type": "execute_result"
    }
   ],
   "source": [
    "a\n"
   ]
  },
  {
   "cell_type": "code",
   "execution_count": 274,
   "id": "cc794b96",
   "metadata": {},
   "outputs": [
    {
     "data": {
      "text/plain": [
       "array([0.64255426, 0.2222463 , 0.14145423, 0.09184443, 0.03128514,\n",
       "       0.01122517, 0.0070206 , 0.00449507, 0.00293219, 0.00099199])"
      ]
     },
     "execution_count": 274,
     "metadata": {},
     "output_type": "execute_result"
    }
   ],
   "source": [
    "a.sum(axis=0)"
   ]
  },
  {
   "cell_type": "markdown",
   "id": "e28b62a7",
   "metadata": {},
   "source": [
    "## Viterbi Algorithm"
   ]
  },
  {
   "cell_type": "code",
   "execution_count": 275,
   "id": "7d466609",
   "metadata": {},
   "outputs": [],
   "source": [
    "def viterbi(obs, A, B, ψ_0):\n",
    "    A = np.asarray(A)\n",
    "    B = np.asarray(B)\n",
    "    ψ_0 = np.asarray(ψ_0)\n",
    "    num_per = len(obs)\n",
    "    num_states = len(A)\n",
    "    v = np.empty((num_states, len(obs)))\n",
    "    bt = np.empty((num_states, len(obs)))\n",
    "    v[:,0] = ψ_0 * B[:, obs[0]]\n",
    "    bt[:,0] = 0\n",
    "    for t in range(num_per-1):\n",
    "        for s in range(num_states):\n",
    "            rhs = np.multiply(A[:,s], v[:, t]) * B[s, obs[t+1]]\n",
    "            v[s, t+1] = np.max(rhs)\n",
    "            bt[s, t+1] = np.argmax(rhs)\n",
    "    bestpath = np.zeros(num_per, dtype=int)\n",
    "    \n",
    "    bestpath[0] = int(np.argmax(v[:, num_per-1]))\n",
    "    \n",
    "    for t in range(num_per-1):\n",
    "        bestpath[t+1] = bt[bestpath[t], num_per-t-1]\n",
    "    \n",
    "    bestpath = np.flip(bestpath, axis=0)\n",
    "    return v, bestpath, bt"
   ]
  },
  {
   "cell_type": "code",
   "execution_count": 276,
   "id": "90c71e71",
   "metadata": {},
   "outputs": [],
   "source": [
    "v, b, bt = viterbi(obs, A, B, ψ_0)"
   ]
  },
  {
   "cell_type": "code",
   "execution_count": 277,
   "id": "dbd633c7",
   "metadata": {},
   "outputs": [
    {
     "data": {
      "text/plain": [
       "array([[4.03317937e-01, 1.05627206e-01, 7.11075463e-02, 4.78691365e-02,\n",
       "        1.25367177e-02, 3.28331161e-03, 2.21030397e-03, 1.48796222e-03,\n",
       "        1.00168647e-03, 2.62337309e-04],\n",
       "       [2.39236327e-01, 9.76569308e-02, 4.75557283e-02, 2.31580829e-02,\n",
       "        9.45319355e-03, 3.85881977e-03, 1.87911891e-03, 9.15069392e-04,\n",
       "        4.45608838e-04, 1.81898761e-04]])"
      ]
     },
     "execution_count": 277,
     "metadata": {},
     "output_type": "execute_result"
    }
   ],
   "source": [
    "v"
   ]
  },
  {
   "cell_type": "code",
   "execution_count": 278,
   "id": "484837a1",
   "metadata": {},
   "outputs": [
    {
     "data": {
      "text/plain": [
       "array([0, 0, 0, 0, 0, 0, 0, 0, 0, 0])"
      ]
     },
     "execution_count": 278,
     "metadata": {},
     "output_type": "execute_result"
    }
   ],
   "source": [
    "b"
   ]
  },
  {
   "cell_type": "code",
   "execution_count": 279,
   "id": "3769143d",
   "metadata": {},
   "outputs": [
    {
     "data": {
      "text/plain": [
       "array([[0., 0., 0., 0., 0., 0., 0., 0., 0., 0.],\n",
       "       [0., 1., 1., 1., 1., 1., 1., 1., 1., 1.]])"
      ]
     },
     "execution_count": 279,
     "metadata": {},
     "output_type": "execute_result"
    }
   ],
   "source": [
    "bt"
   ]
  },
  {
   "cell_type": "markdown",
   "id": "34162b4a",
   "metadata": {},
   "source": [
    "## backwards algorithm"
   ]
  },
  {
   "cell_type": "code",
   "execution_count": 280,
   "id": "d9f335cb",
   "metadata": {},
   "outputs": [],
   "source": [
    "def backward(obs, A, B, ψ_0):\n",
    "    A = np.asarray(A)\n",
    "    B = np.asarray(B)\n",
    "    ψ_0 = np.asarray(ψ_0)\n",
    "    num_states = len(A)\n",
    "    β = np.empty((num_states, len(obs)))\n",
    "    β[:,0] = 1\n",
    "    for t in range(len(obs)-1):\n",
    "        for s in range(num_states):\n",
    "            β[s, t+1] = β[:, t].dot(A[:, s]) * B[s, obs[t+1]]\n",
    "    return np.flip( β, axis=1) "
   ]
  },
  {
   "cell_type": "code",
   "execution_count": 281,
   "id": "9987bbc4",
   "metadata": {},
   "outputs": [],
   "source": [
    "b= backward(obs, A, B, ψ_0)"
   ]
  },
  {
   "cell_type": "markdown",
   "id": "c33c5b7b",
   "metadata": {},
   "source": [
    "## Making a HMM class"
   ]
  },
  {
   "cell_type": "code",
   "execution_count": 292,
   "id": "318da54c",
   "metadata": {},
   "outputs": [],
   "source": [
    "class HiddenMarkovModel:\n",
    "    \n",
    "    def __init__(self, obs):\n",
    "        \n",
    "        self.obs = obs\n",
    "        \n",
    "    def forward(self, A, B, ψ_0):\n",
    "        \n",
    "        obs = self.obs\n",
    "        \n",
    "        A = np.asarray(A)\n",
    "        B = np.asarray(B)\n",
    "        ψ_0 = np.asarray(ψ_0)\n",
    "        num_states = len(A)\n",
    "        α = np.empty((num_states, len(obs)))\n",
    "        α[:,0] = ψ_0 * B[:, obs[0]]\n",
    "        for t in range(len(obs)-1):\n",
    "            for s in range(num_states):\n",
    "                α[s, t+1] = α[:, t].dot(A[:, s]) * B[s, obs[t+1]]\n",
    "        return α\n",
    "    def backward(self, A, B, ψ_0):\n",
    "        \n",
    "        obs = self.obs\n",
    "\n",
    "        A = np.asarray(A)\n",
    "        B = np.asarray(B)\n",
    "        ψ_0 = np.asarray(ψ_0)\n",
    "        num_states = len(A)\n",
    "        β = np.empty((num_states, len(obs)))\n",
    "        β[:,0] = 1\n",
    "        for t in range(len(obs)-1):\n",
    "            for s in range(num_states):\n",
    "                β[s, t+1] = β[:, t].dot(A[:, s]) * B[s, obs[t+1]]\n",
    "        return β\n",
    "    def ϵ(self, α, β, A, B):\n",
    "        obs = self.obs\n",
    "        c = α\n",
    "        num_states = len(A)\n",
    "        ϵ = np.empty((len(obs), num_states, num_states))\n",
    "        for t in range(len(obs)-1):\n",
    "            denominator = c.sum(axis=0)[t]\n",
    "            #print(denominator)\n",
    "            for i in range(num_states):\n",
    "                for j in range(num_states):\n",
    "                    numerator = α[i, t]*A[i,j]*B[j, obs[t+1]]*β[j, t+1]\n",
    "                    #print(numerator)\n",
    "                    ϵ[t, i, j] = numerator/denominator\n",
    "        return ϵ\n",
    "    \n",
    "    def γ(self, α, β):\n",
    "        c = α\n",
    "        return (α*β)/c.sum(axis=0)\n",
    "    \n",
    "    def A_new(self, α, β, A, B):\n",
    "        ϵ = self.ϵ(α, β, A, B)\n",
    "        z = ϵ.sum(axis=0)\n",
    "        \n",
    "        return z/z.sum(axis=1)\n",
    "        \n",
    "    \n",
    "    def B_new(self, α, β, obs, B):\n",
    "        \n",
    "        γ = self.γ(α, β)\n",
    "        b_demons = γ.sum(axis=1)\n",
    "        \n",
    "        for emission in range(B.shape[1]):\n",
    "    \n",
    "            γ_state = γ[:, np.where(obs==emission)[0]].sum(axis=1)\n",
    "            B[:,emission] = γ_state/b_demons\n",
    "        return B\n",
    "\n",
    "    def forwardsbackwards(self, \n",
    "                          num_states, \n",
    "                          num_obs_types,\n",
    "                          tol=1e-4, \n",
    "                          max_iter=1000\n",
    "                         ):\n",
    "        obs = self.obs\n",
    "        \n",
    "        A = np.random.rand(num_states, num_states)\n",
    "        A = normalize(A, axis=1, norm='l1')\n",
    "\n",
    "        B = np.random.rand(num_states, num_obs_types)\n",
    "        B = normalize(B, axis=1, norm='l1')\n",
    "        \n",
    "        ψ_0 = np.random.rand(num_states)\n",
    "        ψ_0 = ψ_0/ψ_0.sum()\n",
    "        print(ψ_0)\n",
    "        \n",
    "        i = 0\n",
    "        error = tol + 1\n",
    "        \n",
    "        while i < max_iter and error > tol:\n",
    "\n",
    "            α = self.forward(A, B, ψ_0)\n",
    "            β = self.backward(A, B, ψ_0)\n",
    "\n",
    "            A_new = self.A_new(α, β, A, B)\n",
    "            \n",
    "            error = np.max(np.abs( A_new  -  A ))\n",
    "            i += 1\n",
    "            \n",
    "            B_new = self.B_new(α, β, obs, B)\n",
    "            \n",
    "            A = A_new\n",
    "            B = B_new\n",
    "        return A, B\n",
    "\n",
    "    def viterbi(self, A, B, ψ_0):\n",
    "        \n",
    "        obs = self.obs\n",
    "        A = np.asarray(A)\n",
    "        B = np.asarray(B)\n",
    "        ψ_0 = np.asarray(ψ_0)\n",
    "        num_per = len(obs)\n",
    "        num_states = len(A)\n",
    "        v = np.empty((num_states, len(obs)))\n",
    "        bt = np.empty((num_states, len(obs)))\n",
    "        v[:,0] = ψ_0 * B[:, obs[0]]\n",
    "        bt[:,0] = 0\n",
    "        for t in range(num_per-1):\n",
    "            for s in range(num_states):\n",
    "                rhs = np.multiply(A[:,s], v[:, t]) * B[s, obs[t+1]]\n",
    "                v[s, t+1] = np.max(rhs)\n",
    "                bt[s, t+1] = np.argmax(rhs)\n",
    "        bestpath = np.zeros(num_per, dtype=int)\n",
    "\n",
    "        bestpath[0] = int(np.argmax(v[:, num_per-1]))\n",
    "\n",
    "        for t in range(num_per-1):\n",
    "            bestpath[t+1] = bt[bestpath[t], num_per-t-1]\n",
    "\n",
    "        bestpath = np.flip(bestpath, axis=0)\n",
    "        return v, bestpath, bt"
   ]
  },
  {
   "cell_type": "code",
   "execution_count": 293,
   "id": "bf6ad307",
   "metadata": {},
   "outputs": [],
   "source": [
    "hmm = HiddenMarkovModel(obs)"
   ]
  },
  {
   "cell_type": "code",
   "execution_count": 297,
   "id": "0ed29349",
   "metadata": {},
   "outputs": [
    {
     "name": "stdout",
     "output_type": "stream",
     "text": [
      "[0.61314267 0.38685733]\n"
     ]
    },
    {
     "data": {
      "text/plain": [
       "(array([[1.00000000e+00, 3.35010419e-13],\n",
       "        [7.89015360e-17, 1.30607888e-37]]),\n",
       " array([[1.15069507e-07, 9.99999885e-01],\n",
       "        [6.37778920e-84, 1.00000000e+00]]))"
      ]
     },
     "execution_count": 297,
     "metadata": {},
     "output_type": "execute_result"
    }
   ],
   "source": [
    "hmm.forwardsbackwards(2, 2)"
   ]
  },
  {
   "cell_type": "code",
   "execution_count": 289,
   "id": "eb1dbf76",
   "metadata": {},
   "outputs": [],
   "source": [
    "num_states = 2\n",
    "num_obs_types = 2\n",
    "A = np.random.rand(num_states, num_states)\n",
    "A = normalize(A, axis=1, norm='l1')\n",
    "\n",
    "B = np.random.rand(num_states, num_obs_types)\n",
    "B = normalize(B, axis=1, norm='l1')\n",
    "\n",
    "ψ_0 = np.random.rand(num_states)\n",
    "ψ_0 = ψ_0/ψ_0.sum()"
   ]
  },
  {
   "cell_type": "code",
   "execution_count": 290,
   "id": "2f77b6ca",
   "metadata": {},
   "outputs": [],
   "source": [
    "α = hmm.forward(A, B, ψ_0)\n",
    "β = hmm.backward(A, B, ψ_0)"
   ]
  },
  {
   "cell_type": "code",
   "execution_count": 291,
   "id": "8b3197f0",
   "metadata": {},
   "outputs": [
    {
     "data": {
      "text/plain": [
       "array([[7.63996369e-02, 2.33391856e-01, 3.59668897e-02, 8.40341371e-03,\n",
       "        1.21960264e-02, 9.64758205e-03, 1.38786241e-03, 3.12113840e-04,\n",
       "        8.49948127e-05, 1.28509141e-04],\n",
       "       [3.30279626e-01, 4.72327747e-02, 3.49672229e-02, 1.15722598e-02,\n",
       "        2.00107936e-03, 9.95396767e-04, 1.23168531e-03, 4.20277249e-04,\n",
       "        1.26515284e-04, 2.14614013e-05]])"
      ]
     },
     "execution_count": 291,
     "metadata": {},
     "output_type": "execute_result"
    }
   ],
   "source": [
    "α"
   ]
  },
  {
   "cell_type": "code",
   "execution_count": 254,
   "id": "32ae3570",
   "metadata": {},
   "outputs": [
    {
     "name": "stderr",
     "output_type": "stream",
     "text": [
      "/tmp/ipykernel_3247/2426044822.py:50: RuntimeWarning: invalid value encountered in true_divide\n",
      "  return c/c.sum(axis=0)\n"
     ]
    }
   ],
   "source": [
    "γ = hmm.γ(α, β)"
   ]
  },
  {
   "cell_type": "code",
   "execution_count": 229,
   "id": "34ab8823",
   "metadata": {},
   "outputs": [],
   "source": [
    "b_demons = γ.sum(axis=1)\n",
    "        \n",
    "for emission in range(num_obs_types):\n",
    "\n",
    "    γ_state = γ[:, np.where(obs==emission)[0]].sum(axis=1)\n",
    "    B[:,emission] = γ_state/b_demons"
   ]
  },
  {
   "cell_type": "code",
   "execution_count": 230,
   "id": "ca37c783",
   "metadata": {},
   "outputs": [
    {
     "data": {
      "text/plain": [
       "2"
      ]
     },
     "execution_count": 230,
     "metadata": {},
     "output_type": "execute_result"
    }
   ],
   "source": [
    "\n",
    "B.shape[1]"
   ]
  },
  {
   "cell_type": "code",
   "execution_count": 231,
   "id": "c3dc8187",
   "metadata": {},
   "outputs": [],
   "source": [
    "tol=1e-4\n",
    "max_iter=1000\n",
    "i = 0\n",
    "error = tol + 1"
   ]
  },
  {
   "cell_type": "code",
   "execution_count": 232,
   "id": "bfbf1d0e",
   "metadata": {},
   "outputs": [
    {
     "name": "stdout",
     "output_type": "stream",
     "text": [
      "[[0.82718037 0.3900808 ]\n",
      " [0.35336539 0.2023993 ]]\n",
      "[[0.25939413 0.74060587]\n",
      " [0.89540226 0.10459774]]\n",
      "[[0.85177504 0.90580099]\n",
      " [0.13185531 0.19423375]]\n",
      "[[0.21085434 0.78914566]\n",
      " [0.98833529 0.01166471]]\n",
      "[[0.54350349 9.51010653]\n",
      " [0.01516482 0.68407404]]\n",
      "[[1.27846260e-01 8.72153740e-01]\n",
      " [9.99464324e-01 5.35676270e-04]]\n",
      "[[5.78846901e-03 5.46888621e+01]\n",
      " [5.84673502e-06 9.99678387e-01]]\n",
      "[[1.01142587e-01 8.98857413e-01]\n",
      " [9.99483005e-01 5.16994748e-04]]\n",
      "[[5.01373704e-10 7.08211775e+01]\n",
      " [3.58253889e-12 1.00000000e+00]]\n",
      "[[0.91341316 0.08658684]\n",
      " [0.36251778 0.63748222]]\n",
      "[[3.15991610e-22 2.22960318e+02]\n",
      " [8.89398329e-26 1.00000000e+00]]\n",
      "[[1.00000000e+00 1.45544747e-24]\n",
      " [3.35097387e-01 6.64902613e-01]]\n",
      "[[1.78128164e-47 1.62243742e+03]\n",
      " [1.06430811e-52 1.00000000e+00]]\n",
      "[[1.00000000e+00 2.32112932e-97]\n",
      " [3.34828926e-01 6.65171074e-01]]\n",
      "[[1.07452947e-099 4.41098997e+004]\n",
      " [1.32575317e-106 1.00000000e+000]]\n",
      "[[1.00000000e+000 8.44674520e-297]\n",
      " [3.34827755e-001 6.65172245e-001]]\n",
      "[[5.29312110e-207 2.07757755e+006]\n",
      " [1.34776114e-215 1.00000000e+000]]\n",
      "[[1.         0.        ]\n",
      " [0.33482775 0.66517225]]\n",
      "[[0.00000000e+000 1.00609825e+008]\n",
      " [9.78249979e-322 1.00000000e+000]]\n",
      "[[1.         0.        ]\n",
      " [0.33482775 0.66517225]]\n",
      "[[0.00000000e+00 4.87509923e+09]\n",
      " [0.00000000e+00 1.00000000e+00]]\n",
      "[[1.         0.        ]\n",
      " [0.33482775 0.66517225]]\n",
      "[[0.00000000e+00 2.36228285e+11]\n",
      " [0.00000000e+00 1.00000000e+00]]\n",
      "[[1.         0.        ]\n",
      " [0.33482775 0.66517225]]\n",
      "[[0.00000000e+00 1.14467038e+13]\n",
      " [0.00000000e+00 1.00000000e+00]]\n",
      "[[1.         0.        ]\n",
      " [0.33482775 0.66517225]]\n",
      "[[0.00000000e+00 5.54662742e+14]\n",
      " [0.00000000e+00 1.00000000e+00]]\n",
      "[[1.         0.        ]\n",
      " [0.33482775 0.66517225]]\n",
      "[[0.0000000e+00 2.6876799e+16]\n",
      " [0.0000000e+00 1.0000000e+00]]\n",
      "[[1.         0.        ]\n",
      " [0.33482775 0.66517225]]\n",
      "[[0.00000000e+00 1.30234514e+18]\n",
      " [0.00000000e+00 1.00000000e+00]]\n",
      "[[1.         0.        ]\n",
      " [0.33482775 0.66517225]]\n",
      "[[0.00000000e+00 6.31065799e+19]\n",
      " [0.00000000e+00 1.00000000e+00]]\n",
      "[[1.         0.        ]\n",
      " [0.33482775 0.66517225]]\n",
      "[[0.0000000e+00 3.0578994e+21]\n",
      " [0.0000000e+00 1.0000000e+00]]\n",
      "[[1.         0.        ]\n",
      " [0.33482775 0.66517225]]\n",
      "[[0.00000000e+00 1.48173911e+23]\n",
      " [0.00000000e+00 1.00000000e+00]]\n",
      "[[1.         0.        ]\n",
      " [0.33482775 0.66517225]]\n",
      "[[0.00000000e+00 7.17993138e+24]\n",
      " [0.00000000e+00 1.00000000e+00]]\n",
      "[[1.         0.        ]\n",
      " [0.33482775 0.66517225]]\n",
      "[[0.00000000e+00 3.47911547e+26]\n",
      " [0.00000000e+00 1.00000000e+00]]\n",
      "[[1.         0.        ]\n",
      " [0.33482775 0.66517225]]\n",
      "[[0.00000000e+00 1.68584403e+28]\n",
      " [0.00000000e+00 1.00000000e+00]]\n",
      "[[1.         0.        ]\n",
      " [0.33482775 0.66517225]]\n",
      "[[0.00000000e+00 8.16894446e+29]\n",
      " [0.00000000e+00 1.00000000e+00]]\n",
      "[[1.         0.        ]\n",
      " [0.33482775 0.66517225]]\n",
      "[[0.00000000e+00 3.95835274e+31]\n",
      " [0.00000000e+00 1.00000000e+00]]\n",
      "[[1.         0.        ]\n",
      " [0.33482775 0.66517225]]\n",
      "[[0.00000000e+00 1.91806377e+33]\n",
      " [0.00000000e+00 1.00000000e+00]]\n",
      "[[1.         0.        ]\n",
      " [0.33482775 0.66517225]]\n",
      "[[0.00000000e+00 9.29419099e+34]\n",
      " [0.00000000e+00 1.00000000e+00]]\n",
      "[[1.         0.        ]\n",
      " [0.33482775 0.66517225]]\n",
      "[[0.00000000e+00 4.50360345e+36]\n",
      " [0.00000000e+00 1.00000000e+00]]\n",
      "[[1.         0.        ]\n",
      " [0.33482775 0.66517225]]\n",
      "[[0.00000000e+00 2.18227106e+38]\n",
      " [0.00000000e+00 1.00000000e+00]]\n",
      "[[1.         0.        ]\n",
      " [0.33482775 0.66517225]]\n",
      "[[0.00000000e+00 1.05744367e+40]\n",
      " [0.00000000e+00 1.00000000e+00]]\n",
      "[[1.         0.        ]\n",
      " [0.33482775 0.66517225]]\n",
      "[[0.00000000e+00 5.12396073e+41]\n",
      " [0.00000000e+00 1.00000000e+00]]\n",
      "[[1.         0.        ]\n",
      " [0.33482775 0.66517225]]\n",
      "[[0.00000000e+00 2.48287207e+43]\n",
      " [0.00000000e+00 1.00000000e+00]]\n",
      "[[1.         0.        ]\n",
      " [0.33482775 0.66517225]]\n",
      "[[0.00000000e+00 1.20310323e+45]\n",
      " [0.00000000e+00 1.00000000e+00]]\n",
      "[[1.         0.        ]\n",
      " [0.33482775 0.66517225]]\n",
      "[[0.00000000e+00 5.82977029e+46]\n",
      " [0.00000000e+00 1.00000000e+00]]\n",
      "[[1.         0.        ]\n",
      " [0.33482775 0.66517225]]\n",
      "[[0.00000000e+00 2.82487992e+48]\n",
      " [0.00000000e+00 1.00000000e+00]]\n",
      "[[1.         0.        ]\n",
      " [0.33482775 0.66517225]]\n",
      "[[0.00000000e+00 1.36882693e+50]\n",
      " [0.00000000e+00 1.00000000e+00]]\n",
      "[[1.         0.        ]\n",
      " [0.33482775 0.66517225]]\n",
      "[[0.0000000e+00 6.6328029e+51]\n",
      " [0.0000000e+00 1.0000000e+00]]\n",
      "[[1.         0.        ]\n",
      " [0.33482775 0.66517225]]\n",
      "[[0.00000000e+00 3.21399829e+53]\n",
      " [0.00000000e+00 1.00000000e+00]]\n",
      "[[1.         0.        ]\n",
      " [0.33482775 0.66517225]]\n",
      "[[0.00000000e+00 1.55737856e+55]\n",
      " [0.00000000e+00 1.00000000e+00]]\n",
      "[[1.         0.        ]\n",
      " [0.33482775 0.66517225]]\n",
      "[[0.00000000e+00 7.54645075e+56]\n",
      " [0.00000000e+00 1.00000000e+00]]\n",
      "[[1.         0.        ]\n",
      " [0.33482775 0.66517225]]\n",
      "[[0.0000000e+00 3.6567165e+58]\n",
      " [0.0000000e+00 1.0000000e+00]]\n",
      "[[1.         0.        ]\n",
      " [0.33482775 0.66517225]]\n",
      "[[0.00000000e+00 1.77190258e+60]\n",
      " [0.00000000e+00 1.00000000e+00]]\n",
      "[[1.         0.        ]\n",
      " [0.33482775 0.66517225]]\n",
      "[[0.00000000e+00 8.58595072e+61]\n",
      " [0.00000000e+00 1.00000000e+00]]\n",
      "[[1.         0.        ]\n",
      " [0.33482775 0.66517225]]\n",
      "[[0.00000000e+00 4.16041776e+63]\n",
      " [0.00000000e+00 1.00000000e+00]]\n",
      "[[1.         0.        ]\n",
      " [0.33482775 0.66517225]]\n",
      "[[0.00000000e+00 2.01597662e+65]\n",
      " [0.00000000e+00 1.00000000e+00]]\n",
      "[[1.         0.        ]\n",
      " [0.33482775 0.66517225]]\n",
      "[[0.00000000e+00 9.76863857e+66]\n",
      " [0.00000000e+00 1.00000000e+00]]\n",
      "[[1.         0.        ]\n",
      " [0.33482775 0.66517225]]\n",
      "[[0.00000000e+00 4.73350229e+68]\n",
      " [0.00000000e+00 1.00000000e+00]]\n",
      "[[1.         0.        ]\n",
      " [0.33482775 0.66517225]]\n",
      "[[0.00000000e+00 2.29367109e+70]\n",
      " [0.00000000e+00 1.00000000e+00]]\n",
      "[[1.         0.        ]\n",
      " [0.33482775 0.66517225]]\n",
      "[[0.0000000e+00 1.1114238e+72]\n",
      " [0.0000000e+00 1.0000000e+00]]\n",
      "[[1.         0.        ]\n",
      " [0.33482775 0.66517225]]\n",
      "[[0.00000000e+00 5.38552741e+73]\n",
      " [0.00000000e+00 1.00000000e+00]]\n",
      "[[1.         0.        ]\n",
      " [0.33482775 0.66517225]]\n",
      "[[0.00000000e+00 2.60961711e+75]\n",
      " [0.00000000e+00 1.00000000e+00]]\n",
      "[[1.         0.        ]\n",
      " [0.33482775 0.66517225]]\n",
      "[[0.00000000e+00 1.26451895e+77]\n",
      " [0.00000000e+00 1.00000000e+00]]\n",
      "[[1.         0.        ]\n",
      " [0.33482775 0.66517225]]\n",
      "[[0.00000000e+00 6.12736696e+78]\n",
      " [0.00000000e+00 1.00000000e+00]]\n",
      "[[1.         0.        ]\n",
      " [0.33482775 0.66517225]]\n",
      "[[0.0000000e+00 2.9690837e+80]\n",
      " [0.0000000e+00 1.0000000e+00]]\n",
      "[[1.         0.        ]\n",
      " [0.33482775 0.66517225]]\n",
      "[[0.00000000e+00 1.43870247e+82]\n",
      " [0.00000000e+00 1.00000000e+00]]\n",
      "[[1.         0.        ]\n",
      " [0.33482775 0.66517225]]\n",
      "[[0.00000000e+00 6.97139259e+83]\n",
      " [0.00000000e+00 1.00000000e+00]]\n",
      "[[1.         0.        ]\n",
      " [0.33482775 0.66517225]]\n",
      "[[0.00000000e+00 3.37806569e+85]\n",
      " [0.00000000e+00 1.00000000e+00]]\n",
      "[[1.         0.        ]\n",
      " [0.33482775 0.66517225]]\n",
      "[[0.00000000e+00 1.63687924e+87]\n",
      " [0.00000000e+00 1.00000000e+00]]\n",
      "[[1.         0.        ]\n",
      " [0.33482775 0.66517225]]\n",
      "[[0.0000000e+00 7.9316801e+88]\n",
      " [0.0000000e+00 1.0000000e+00]]\n",
      "[[1.         0.        ]\n",
      " [0.33482775 0.66517225]]\n",
      "[[0.00000000e+00 3.84338367e+90]\n",
      " [0.00000000e+00 1.00000000e+00]]\n",
      "[[1.         0.        ]\n",
      " [0.33482775 0.66517225]]\n",
      "[[0.00000000e+00 1.86235423e+92]\n",
      " [0.00000000e+00 1.00000000e+00]]\n",
      "[[1.         0.        ]\n",
      " [0.33482775 0.66517225]]\n",
      "[[0.00000000e+00 9.02424422e+93]\n",
      " [0.00000000e+00 1.00000000e+00]]\n",
      "[[1.         0.        ]\n",
      " [0.33482775 0.66517225]]\n",
      "[[0.00000000e+00 4.37279774e+95]\n",
      " [0.00000000e+00 1.00000000e+00]]\n",
      "[[1.         0.        ]\n",
      " [0.33482775 0.66517225]]\n",
      "[[0.0000000e+00 2.1188877e+97]\n",
      " [0.0000000e+00 1.0000000e+00]]\n",
      "[[1.         0.        ]\n",
      " [0.33482775 0.66517225]]\n",
      "[[0.00000000e+00 1.02673056e+99]\n",
      " [0.00000000e+00 1.00000000e+00]]\n",
      "[[1.         0.        ]\n",
      " [0.33482775 0.66517225]]\n",
      "[[0.00000000e+000 4.97513694e+100]\n",
      " [0.00000000e+000 1.00000000e+000]]\n",
      "[[1.         0.        ]\n",
      " [0.33482775 0.66517225]]\n",
      "[[0.00000000e+000 2.41075785e+102]\n",
      " [0.00000000e+000 1.00000000e+000]]\n",
      "[[1.         0.        ]\n",
      " [0.33482775 0.66517225]]\n",
      "[[0.00000000e+000 1.16815948e+104]\n",
      " [0.00000000e+000 1.00000000e+000]]\n",
      "[[1.         0.        ]\n",
      " [0.33482775 0.66517225]]\n",
      "[[0.00000000e+000 5.66044649e+105]\n",
      " [0.00000000e+000 1.00000000e+000]]\n",
      "[[1.         0.        ]\n",
      " [0.33482775 0.66517225]]\n",
      "[[0.0000000e+000 2.7428322e+107]\n",
      " [0.0000000e+000 1.0000000e+000]]\n",
      "[[1.         0.        ]\n",
      " [0.33482775 0.66517225]]\n",
      "[[0.0000000e+000 1.3290698e+109]\n",
      " [0.0000000e+000 1.0000000e+000]]\n",
      "[[1.         0.        ]\n",
      " [0.33482775 0.66517225]]\n",
      "[[0.00000000e+000 6.44015528e+110]\n",
      " [0.00000000e+000 1.00000000e+000]]\n",
      "[[1.         0.        ]\n",
      " [0.33482775 0.66517225]]\n",
      "[[0.00000000e+000 3.12064875e+112]\n",
      " [0.00000000e+000 1.00000000e+000]]\n",
      "[[1.         0.        ]\n",
      " [0.33482775 0.66517225]]\n",
      "[[0.000000e+000 1.512145e+114]\n",
      " [0.000000e+000 1.000000e+000]]\n",
      "[[1.         0.        ]\n",
      " [0.33482775 0.66517225]]\n",
      "[[0.00000000e+000 7.32726652e+115]\n",
      " [0.00000000e+000 1.00000000e+000]]\n",
      "[[1.         0.        ]\n",
      " [0.33482775 0.66517225]]\n",
      "[[0.00000000e+000 3.55050835e+117]\n",
      " [0.00000000e+000 1.00000000e+000]]\n",
      "[[1.         0.        ]\n",
      " [0.33482775 0.66517225]]\n",
      "[[0.00000000e+000 1.72043825e+119]\n",
      " [0.00000000e+000 1.00000000e+000]]\n",
      "[[1.         0.        ]\n",
      " [0.33482775 0.66517225]]\n",
      "[[0.00000000e+000 8.33657456e+120]\n",
      " [0.00000000e+000 1.00000000e+000]]\n",
      "[[1.         0.        ]\n",
      " [0.33482775 0.66517225]]\n",
      "[[0.00000000e+000 4.03957977e+122]\n",
      " [0.00000000e+000 1.00000000e+000]]\n",
      "[[1.         0.        ]\n",
      " [0.33482775 0.66517225]]\n",
      "[[0.00000000e+000 1.95742323e+124]\n",
      " [0.00000000e+000 1.00000000e+000]]\n",
      "[[1.         0.        ]\n",
      " [0.33482775 0.66517225]]\n",
      "[[0.00000000e+000 9.48491161e+125]\n",
      " [0.00000000e+000 1.00000000e+000]]\n",
      "[[1.         0.        ]\n",
      " [0.33482775 0.66517225]]\n",
      "[[0.00000000e+000 4.59601924e+127]\n",
      " [0.00000000e+000 1.00000000e+000]]\n",
      "[[1.         0.        ]\n",
      " [0.33482775 0.66517225]]\n",
      "[[0.00000000e+000 2.22705216e+129]\n",
      " [0.00000000e+000 1.00000000e+000]]\n",
      "[[1.         0.        ]\n",
      " [0.33482775 0.66517225]]\n",
      "[[0.00000000e+000 1.07914285e+131]\n",
      " [0.00000000e+000 1.00000000e+000]]\n",
      "[[1.         0.        ]\n",
      " [0.33482775 0.66517225]]\n",
      "[[0.00000000e+000 5.22910651e+132]\n",
      " [0.00000000e+000 1.00000000e+000]]\n",
      "[[1.         0.        ]\n",
      " [0.33482775 0.66517225]]\n",
      "[[0.00000000e+000 2.53382162e+134]\n",
      " [0.00000000e+000 1.00000000e+000]]\n",
      "[[1.         0.        ]\n",
      " [0.33482775 0.66517225]]\n",
      "[[0.0000000e+000 1.2277914e+136]\n",
      " [0.0000000e+000 1.0000000e+000]]\n",
      "[[1.         0.        ]\n",
      " [0.33482775 0.66517225]]\n",
      "[[0.00000000e+000 5.94939957e+137]\n",
      " [0.00000000e+000 1.00000000e+000]]\n",
      "[[1.         0.        ]\n",
      " [0.33482775 0.66517225]]\n",
      "[[0.00000000e+000 2.88284762e+139]\n",
      " [0.00000000e+000 1.00000000e+000]]\n",
      "[[1.         0.        ]\n",
      " [0.33482775 0.66517225]]\n",
      "[[0.00000000e+000 1.39691583e+141]\n",
      " [0.00000000e+000 1.00000000e+000]]\n",
      "[[1.         0.        ]\n",
      " [0.33482775 0.66517225]]\n",
      "[[0.00000000e+000 6.76891074e+142]\n",
      " [0.00000000e+000 1.00000000e+000]]\n",
      "[[1.         0.        ]\n",
      " [0.33482775 0.66517225]]\n",
      "[[0.00000000e+000 3.27995086e+144]\n",
      " [0.00000000e+000 1.00000000e+000]]\n",
      "[[1.         0.        ]\n",
      " [0.33482775 0.66517225]]\n",
      "[[0.00000000e+000 1.58933661e+146]\n",
      " [0.00000000e+000 1.00000000e+000]]\n",
      "[[1.         0.        ]\n",
      " [0.33482775 0.66517225]]\n",
      "[[0.00000000e+000 7.70130702e+147]\n",
      " [0.00000000e+000 1.00000000e+000]]\n",
      "[[1.         0.        ]\n",
      " [0.33482775 0.66517225]]\n",
      "[[0.00000000e+000 3.73175383e+149]\n",
      " [0.00000000e+000 1.00000000e+000]]\n",
      "[[1.         0.        ]\n",
      " [0.33482775 0.66517225]]\n",
      "[[0.00000000e+000 1.80826275e+151]\n",
      " [0.00000000e+000 1.00000000e+000]]\n",
      "[[1.         0.        ]\n",
      " [0.33482775 0.66517225]]\n",
      "[[0.00000000e+000 8.76213796e+152]\n",
      " [0.00000000e+000 1.00000000e+000]]\n",
      "[[1.         0.        ]\n",
      " [0.33482775 0.66517225]]\n",
      "[[0.00000000e+000 4.24579124e+154]\n",
      " [0.00000000e+000 1.00000000e+000]]\n",
      "[[1.         0.        ]\n",
      " [0.33482775 0.66517225]]\n",
      "[[ 0. inf]\n",
      " [ 0.  1.]]\n",
      "[[ 1.  0.]\n",
      " [nan nan]]\n",
      "[[nan nan]\n",
      " [nan nan]]\n",
      "[[nan nan]\n",
      " [nan nan]]\n"
     ]
    },
    {
     "name": "stderr",
     "output_type": "stream",
     "text": [
      "/tmp/ipykernel_3247/2426044822.py:37: RuntimeWarning: overflow encountered in multiply\n",
      "  c = α*β\n",
      "/tmp/ipykernel_3247/2426044822.py:44: RuntimeWarning: overflow encountered in double_scalars\n",
      "  numerator = α[i, t]*A[i,j]*B[j, obs[t+1]]*β[j, t+1]\n",
      "/tmp/ipykernel_3247/2426044822.py:49: RuntimeWarning: overflow encountered in multiply\n",
      "  c = α*β\n",
      "/tmp/ipykernel_3247/2426044822.py:50: RuntimeWarning: invalid value encountered in true_divide\n",
      "  return c/c.sum(axis=0)\n"
     ]
    }
   ],
   "source": [
    "while i < max_iter and error > tol:\n",
    "\n",
    "\n",
    "    α = hmm.forward(A, B, ψ_0)\n",
    "    β = hmm.backward(A, B, ψ_0)\n",
    "\n",
    "    A_new = hmm.A_new(α, β, A, B)\n",
    "\n",
    "    error = np.max(np.abs( A_new  -  A ))\n",
    "    i += 1\n",
    "\n",
    "    B_new = hmm.B_new(α, β, obs, B)\n",
    "\n",
    "    A = A_new\n",
    "    B = B_new\n",
    "    print(A)\n",
    "    print(B)"
   ]
  }
 ],
 "metadata": {
  "kernelspec": {
   "display_name": "Python 3 (ipykernel)",
   "language": "python",
   "name": "python3"
  },
  "language_info": {
   "codemirror_mode": {
    "name": "ipython",
    "version": 3
   },
   "file_extension": ".py",
   "mimetype": "text/x-python",
   "name": "python",
   "nbconvert_exporter": "python",
   "pygments_lexer": "ipython3",
   "version": "3.9.7"
  }
 },
 "nbformat": 4,
 "nbformat_minor": 5
}
